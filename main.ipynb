{
 "cells": [
  {
   "cell_type": "code",
   "execution_count": 1,
   "id": "edbd1848",
   "metadata": {},
   "outputs": [],
   "source": [
    "# Standard library imports,\n",
    "import time\n",
    "import random\n",
    "import string\n",
    "import datetime\n",
    "\n",
    "# Third-party imports,\n",
    "import numpy as np\n",
    "import matplotlib.pyplot as plt\n",
    "from dataset import MNIST\n",
    "\n",
    "# Torch imports,\n",
    "import torch\n",
    "from torchsummary import summary\n",
    "import torch.nn.functional as Encoder\n",
    "from torchvision import datasets\n",
    "from torch.optim import SGD, Adam\n",
    "from torch.utils.data import Dataset, DataLoader"
   ]
  },
  {
   "cell_type": "markdown",
   "id": "a90055c1",
   "metadata": {},
   "source": [
    "## LeNet-5 Model & Training Method "
   ]
  },
  {
   "cell_type": "code",
   "execution_count": 2,
   "id": "a77273d4",
   "metadata": {},
   "outputs": [],
   "source": [
    "class ConfigDataset(Dataset):\n",
    "    def __init__(self, path):\n",
    "        \"\"\"X is the training input while Y is the target output.\"\"\"\n",
    "\n",
    "        # Loading PyTorch dataset,\n",
    "        dataset = torch.load(path)\n",
    "        self.X = dataset.X\n",
    "        self.Y = dataset.Y\n",
    "        del dataset\n",
    "\n",
    "        # One-hot encoding the target output,\n",
    "        print(\"INFO: One-hot encoding target labels.\")\n",
    "        self.Y = Encoder.one_hot(self.Y, num_classes = 10).to(torch.float32)\n",
    "\n",
    "    def __len__(self):\n",
    "        \"\"\"Returns the number of objects in the dataset.\"\"\"\n",
    "        return self.X.shape[0]\n",
    "    \n",
    "    def __getitem__(self, index):\n",
    "        \"Returns a tuple of training input and target output.\"\n",
    "        return self.X[index], self.Y[index]\n",
    "\n",
    "class NeuralNetwork(torch.nn.Module):\n",
    "    \"\"\"The neural network architecture.\"\"\"\n",
    "\n",
    "    def __init__(self):\n",
    "        \"\"\"Creating the layer stucture and activation functions of the neutral network.\"\"\"\n",
    "        super().__init__()\n",
    "\n",
    "        # Layers,\n",
    "        self.ConvolutionalLayer_INPUT = torch.nn.Conv2d(in_channels = 1, out_channels = 6, kernel_size = (5, 5), stride = (1,1), padding = (2,2))\n",
    "        self.PoolingLayer_HIDDEN_1 = torch.nn.AvgPool2d(kernel_size = (2,2), stride = (2,2))\n",
    "        self.ConvolutionalLayer_HIDDEN_2 = torch.nn.Conv2d(in_channels = 6, out_channels = 16, kernel_size = (5, 5), stride = (1,1))\n",
    "        self.PoolingLayer_HIDDEN_3 = torch.nn.AvgPool2d(kernel_size = (2,2), stride = (2,2))\n",
    "        self.DenseLayer_HIDDEN_4 = torch.nn.Linear(in_features = 16*5*5, out_features = 120)\n",
    "        self.DenseLayer_HIDDEN_5 = torch.nn.Linear(in_features = 120, out_features = 84)\n",
    "        self.DenseLayer_OUTPUT = torch.nn.Linear(in_features = 84, out_features = 10)\n",
    "\n",
    "        # Activation functions,\n",
    "        self.Sigmoid = torch.nn.Sigmoid()\n",
    "        self.SoftMax = torch.nn.Softmax()\n",
    "\n",
    "    def forward(self, X):\n",
    "        \"\"\"Defining the forward propagation.\"\"\"\n",
    "\n",
    "        X = self.ConvolutionalLayer_INPUT(X)\n",
    "        X = self.Sigmoid(self.PoolingLayer_HIDDEN_1(X))\n",
    "        X = self.ConvolutionalLayer_HIDDEN_2(X)\n",
    "        X = self.Sigmoid(self.PoolingLayer_HIDDEN_3(X))\n",
    "\n",
    "        X = X.view(-1, 16*5*5)\n",
    "        X = self.DenseLayer_HIDDEN_4(X)\n",
    "        X = self.DenseLayer_HIDDEN_5(X)\n",
    "        X = self.SoftMax(self.DenseLayer_OUTPUT(X))\n",
    "\n",
    "        return X\n",
    "\n",
    "def TrainModel(training_data, neural_network, model_name, n_epochs = 10, learning_rate = 0.01):\n",
    "\n",
    "    print(model_name)\n",
    "    summary(neural_network, (1, 28, 28))\n",
    "    print(\" \")\n",
    "\n",
    "    # Utilisation of CUDA if possible,\n",
    "    if torch.cuda.is_available():\n",
    "        device = torch.device(\"cuda\")\n",
    "        print(f'CUDA is available. Using GPU: {torch.cuda.get_device_name(0)}')\n",
    "    else:\n",
    "        device = torch.device(\"cpu\")\n",
    "        print('CUDA is not available. Using CPU.')\n",
    "\n",
    "    neural_network.to(device)\n",
    "\n",
    "    # Stochastic Gradient Descent (SGD) as optimiser,\n",
    "    optimiser = SGD(neural_network.parameters(), lr = learning_rate)\n",
    "\n",
    "    # Cross-Entropy loss function,\n",
    "    loss_function = torch.nn.CrossEntropyLoss()\n",
    "\n",
    "    losses = []\n",
    "    epochs = np.arange(start = 1, stop = n_epochs, step = 1)\n",
    "\n",
    "    for epoch in range(1, n_epochs + 1):\n",
    "        epoch_loss = []\n",
    "        stopwatch_start = time.time()\n",
    "        for i, (X, Y) in enumerate(training_data):\n",
    "\n",
    "            # Move data to selected device,\n",
    "            X, Y = X.to(device), Y.to(device)\n",
    "\n",
    "            # Back propagation,\n",
    "            optimiser.zero_grad() \n",
    "            loss_value = loss_function(neural_network(X), Y) \n",
    "            epoch_loss.append(loss_value.item())\n",
    "            loss_value.backward(loss_value) \n",
    "            optimiser.step()\n",
    "\n",
    "        stopwatch_stop = time.time()\n",
    "        epoch_time = round(stopwatch_stop - stopwatch_start, 2)\n",
    "        epoch_avgloss = np.mean(epoch_loss)\n",
    "        losses.append(epoch_avgloss)\n",
    "        ETA = str(datetime.timedelta(seconds = (n_epochs - epoch)*epoch_time)).split(\".\")[0]\n",
    "        update_string = f'[Completed Epoch: {epoch}/{n_epochs} - Time Taken: {epoch_time} secs - Loss: {epoch_avgloss:.5f} - ETA: {ETA} ]'\n",
    "        print(update_string)\n",
    "\n",
    "    torch.save(neural_network.state_dict(), f'{model_name}.pth')\n",
    "    return np.array(epochs), np.array(losses)\n",
    "\n",
    "def AssessModel(test_data, neural_network):\n",
    "\n",
    "    X_test = test_data[:][0]\n",
    "    Y_test = test_data[:][1]\n",
    "    Yhat_test = neural_network(X_test)\n",
    "\n",
    "    correct_counter = 0\n",
    "    incorrect_counter = 0\n",
    "    for Y, Yhat in zip(Y_test, Yhat_test):\n",
    "        if Yhat.argmax() == Y.argmax():\n",
    "            correct_counter += 1\n",
    "        else:\n",
    "            incorrect_counter += 1\n",
    "\n",
    "    accuracy = correct_counter/(correct_counter + incorrect_counter)\n",
    "\n",
    "    return accuracy"
   ]
  },
  {
   "cell_type": "markdown",
   "id": "af4dadef",
   "metadata": {},
   "source": [
    "## Training Algorithm"
   ]
  },
  {
   "cell_type": "code",
   "execution_count": 3,
   "id": "8ece9a7f",
   "metadata": {},
   "outputs": [
    {
     "name": "stdout",
     "output_type": "stream",
     "text": [
      "INFO: One-hot encoding target labels.\n",
      "Input Batch Shape: torch.Size([5, 1, 28, 28])\n",
      "Target Batch Shape: torch.Size([5, 10])\n",
      "Example Label: tensor([0., 1., 0., 0., 0., 0., 0., 0., 0., 0.])\n"
     ]
    },
    {
     "data": {
      "image/png": "[encoded data removed]",
      "text/plain": [
       "<Figure size 432x288 with 1 Axes>"
      ]
     },
     "metadata": {
      "needs_background": "light"
     },
     "output_type": "display_data"
    },
    {
     "name": "stdout",
     "output_type": "stream",
     "text": [
      "\n",
      "LeNet-JFW4E\n",
      "==========================================================================================\n",
      "Layer (type:depth-idx)                   Output Shape              Param #\n",
      "==========================================================================================\n",
      "├─Conv2d: 1-1                            [-1, 6, 28, 28]           156\n",
      "├─AvgPool2d: 1-2                         [-1, 6, 14, 14]           --\n",
      "├─Sigmoid: 1-3                           [-1, 6, 14, 14]           --\n",
      "├─Conv2d: 1-4                            [-1, 16, 10, 10]          2,416\n",
      "├─AvgPool2d: 1-5                         [-1, 16, 5, 5]            --\n",
      "├─Sigmoid: 1-6                           [-1, 16, 5, 5]            --\n",
      "├─Linear: 1-7                            [-1, 120]                 48,120\n",
      "├─Linear: 1-8                            [-1, 84]                  10,164\n",
      "├─Linear: 1-9                            [-1, 10]                  850\n",
      "├─Softmax: 1-10                          [-1, 10]                  --\n",
      "==========================================================================================\n",
      "Total params: 61,706\n",
      "Trainable params: 61,706\n",
      "Non-trainable params: 0\n",
      "Total mult-adds (M): 0.42\n",
      "==========================================================================================\n",
      "Input size (MB): 0.00\n",
      "Forward/backward pass size (MB): 0.05\n",
      "Params size (MB): 0.24\n",
      "Estimated Total Size (MB): 0.29\n",
      "==========================================================================================\n",
      " \n",
      "CUDA is not available. Using CPU.\n"
     ]
    },
    {
     "name": "stderr",
     "output_type": "stream",
     "text": [
      "C:\\Users\\Prithvi\\AppData\\Local\\Temp\\ipykernel_6604\\2309659645.py:54: UserWarning: Implicit dimension choice for softmax has been deprecated. Change the call to include dim=X as an argument.\n",
      "  X = self.SoftMax(self.DenseLayer_OUTPUT(X))\n"
     ]
    },
    {
     "name": "stdout",
     "output_type": "stream",
     "text": [
      "[Completed Epoch: 1/25 - Time Taken: 24.8 secs - Loss: 2.05257 - ETA: 0:09:55 ]\n",
      "[Completed Epoch: 2/25 - Time Taken: 26.02 secs - Loss: 1.61114 - ETA: 0:09:58 ]\n",
      "[Completed Epoch: 3/25 - Time Taken: 24.5 secs - Loss: 1.56697 - ETA: 0:08:59 ]\n",
      "[Completed Epoch: 4/25 - Time Taken: 25.58 secs - Loss: 1.54645 - ETA: 0:08:57 ]\n",
      "[Completed Epoch: 5/25 - Time Taken: 24.32 secs - Loss: 1.53053 - ETA: 0:08:06 ]\n",
      "[Completed Epoch: 6/25 - Time Taken: 25.87 secs - Loss: 1.52373 - ETA: 0:08:11 ]\n",
      "[Completed Epoch: 7/25 - Time Taken: 26.57 secs - Loss: 1.51946 - ETA: 0:07:58 ]\n",
      "[Completed Epoch: 8/25 - Time Taken: 26.49 secs - Loss: 1.51184 - ETA: 0:07:30 ]\n",
      "[Completed Epoch: 9/25 - Time Taken: 26.62 secs - Loss: 1.50788 - ETA: 0:07:05 ]\n",
      "[Completed Epoch: 10/25 - Time Taken: 26.43 secs - Loss: 1.50459 - ETA: 0:06:36 ]\n",
      "[Completed Epoch: 11/25 - Time Taken: 26.31 secs - Loss: 1.50039 - ETA: 0:06:08 ]\n",
      "[Completed Epoch: 12/25 - Time Taken: 25.71 secs - Loss: 1.50009 - ETA: 0:05:34 ]\n",
      "[Completed Epoch: 13/25 - Time Taken: 25.94 secs - Loss: 1.49874 - ETA: 0:05:11 ]\n",
      "[Completed Epoch: 14/25 - Time Taken: 25.48 secs - Loss: 1.49784 - ETA: 0:04:40 ]\n",
      "[Completed Epoch: 15/25 - Time Taken: 26.29 secs - Loss: 1.49645 - ETA: 0:04:22 ]\n",
      "[Completed Epoch: 16/25 - Time Taken: 25.57 secs - Loss: 1.49553 - ETA: 0:03:50 ]\n",
      "[Completed Epoch: 17/25 - Time Taken: 26.04 secs - Loss: 1.49363 - ETA: 0:03:28 ]\n",
      "[Completed Epoch: 18/25 - Time Taken: 25.4 secs - Loss: 1.49083 - ETA: 0:02:57 ]\n",
      "[Completed Epoch: 19/25 - Time Taken: 25.39 secs - Loss: 1.49672 - ETA: 0:02:32 ]\n",
      "[Completed Epoch: 20/25 - Time Taken: 25.48 secs - Loss: 1.49404 - ETA: 0:02:07 ]\n",
      "[Completed Epoch: 21/25 - Time Taken: 25.64 secs - Loss: 1.49031 - ETA: 0:01:42 ]\n",
      "[Completed Epoch: 22/25 - Time Taken: 25.49 secs - Loss: 1.49042 - ETA: 0:01:16 ]\n",
      "[Completed Epoch: 23/25 - Time Taken: 26.06 secs - Loss: 1.49044 - ETA: 0:00:52 ]\n",
      "[Completed Epoch: 24/25 - Time Taken: 25.98 secs - Loss: 1.49002 - ETA: 0:00:25 ]\n",
      "[Completed Epoch: 25/25 - Time Taken: 25.62 secs - Loss: 1.49232 - ETA: 0:00:00 ]\n",
      "INFO: One-hot encoding target labels.\n",
      "Accuracy: 0.9715\n"
     ]
    }
   ],
   "source": [
    "# Hyperparameters,\n",
    "EPOCHS = 25\n",
    "BATCH_SIZE = 5\n",
    "LEARNING_RATE = 0.01\n",
    "\n",
    "if __name__ == \"__main__\":\n",
    "\n",
    "    ID = ''.join(random.choice(string.ascii_uppercase + string.digits) for _ in range(5))\n",
    "    model_name = \"LeNet-\" + ID\n",
    "\n",
    "    # Creating and training neural network,\n",
    "    training_dataset = ConfigDataset(\"training.pt\")\n",
    "    training_dataset_loaded = DataLoader(training_dataset, BATCH_SIZE)\n",
    "    training_dataset_loaded.__dir__()\n",
    "\n",
    "    # Displaying image,\n",
    "    train_features, train_labels = next(iter(training_dataset_loaded))\n",
    "    print(f\"Input Batch Shape: {train_features.size()}\")\n",
    "    print(f\"Target Batch Shape: {train_labels.size()}\")\n",
    "    \n",
    "    random_index = random.randint(0, BATCH_SIZE - 1)\n",
    "    label = train_labels[random_index]\n",
    "    print(f\"Example Label: {label}\")\n",
    "\n",
    "    img = train_features[random_index].squeeze()\n",
    "    label = train_labels[random_index]\n",
    "    plt.imshow(img, cmap = \"gray\")\n",
    "    plt.show()\n",
    "    print(\"\")\n",
    "\n",
    "    # Creating and training neural network,\n",
    "    neural_network = NeuralNetwork()\n",
    "    epoch_array, loss_array = TrainModel(training_dataset_loaded, neural_network, model_name, EPOCHS, LEARNING_RATE)\n",
    "\n",
    "    # Testing neural network,\n",
    "    test_dataset = ConfigDataset(\"test.pt\")\n",
    "    print(\"Accuracy: \" + str(AssessModel(test_dataset, neural_network)))"
   ]
  },
  {
   "cell_type": "markdown",
   "id": "783fd56b",
   "metadata": {},
   "source": [
    "## Model Loader"
   ]
  },
  {
   "cell_type": "code",
   "execution_count": 4,
   "id": "29abe09f",
   "metadata": {},
   "outputs": [
    {
     "data": {
      "text/plain": [
       "NeuralNetwork(\n",
       "  (ConvolutionalLayer_INPUT): Conv2d(1, 6, kernel_size=(5, 5), stride=(1, 1), padding=(2, 2))\n",
       "  (PoolingLayer_HIDDEN_1): AvgPool2d(kernel_size=(2, 2), stride=(2, 2), padding=0)\n",
       "  (ConvolutionalLayer_HIDDEN_2): Conv2d(6, 16, kernel_size=(5, 5), stride=(1, 1))\n",
       "  (PoolingLayer_HIDDEN_3): AvgPool2d(kernel_size=(2, 2), stride=(2, 2), padding=0)\n",
       "  (DenseLayer_HIDDEN_4): Linear(in_features=400, out_features=120, bias=True)\n",
       "  (DenseLayer_HIDDEN_5): Linear(in_features=120, out_features=84, bias=True)\n",
       "  (DenseLayer_OUTPUT): Linear(in_features=84, out_features=10, bias=True)\n",
       "  (Sigmoid): Sigmoid()\n",
       "  (SoftMax): Softmax(dim=None)\n",
       ")"
      ]
     },
     "execution_count": 4,
     "metadata": {},
     "output_type": "execute_result"
    }
   ],
   "source": [
    "MODEL_FILE = \"LeNet-JFW4E.pth\"\n",
    "\n",
    "# Loading model,\n",
    "model = NeuralNetwork()\n",
    "model.load_state_dict(torch.load(MODEL_FILE))\n",
    "model.eval()"
   ]
  },
  {
   "cell_type": "markdown",
   "id": "27a02666",
   "metadata": {},
   "source": [
    "## Visualisation"
   ]
  },
  {
   "cell_type": "code",
   "execution_count": 5,
   "id": "7e394d6a",
   "metadata": {},
   "outputs": [
    {
     "name": "stdout",
     "output_type": "stream",
     "text": [
      "INFO: One-hot encoding target labels.\n"
     ]
    },
    {
     "name": "stderr",
     "output_type": "stream",
     "text": [
      "C:\\Users\\Prithvi\\AppData\\Local\\Temp\\ipykernel_6604\\2309659645.py:54: UserWarning: Implicit dimension choice for softmax has been deprecated. Change the call to include dim=X as an argument.\n",
      "  X = self.SoftMax(self.DenseLayer_OUTPUT(X))\n"
     ]
    },
    {
     "data": {
      "image/png": "[encoded data removed]",
      "text/plain": [
       "<Figure size 648x648 with 2 Axes>"
      ]
     },
     "metadata": {
      "needs_background": "light"
     },
     "output_type": "display_data"
    },
    {
     "name": "stdout",
     "output_type": "stream",
     "text": [
      "[Prediction: 8, Actual: 8]\n"
     ]
    }
   ],
   "source": [
    "test_dataset = ConfigDataset(\"test.pt\")\n",
    "idx = 1562\n",
    "\n",
    "# Forward pass,\n",
    "X_sample = test_dataset[:][0][idx]\n",
    "X_sample = X_sample.unsqueeze(0)\n",
    "X_sample.requires_grad = True\n",
    "\n",
    "Y_sample = test_dataset[:][1][idx]\n",
    "Y_pred = model(X_sample)\n",
    "\n",
    "# Computing gradients with respect to the loss function via back propagation,\n",
    "loss = Y_pred.max()\n",
    "loss.backward()\n",
    "\n",
    "# Calculate feature importance as the absolute mean of gradients found,\n",
    "feature_importance = torch.abs(X_sample.grad).numpy().squeeze(0)\n",
    "feature_image = feature_importance.reshape((28, 28, 1))\n",
    "image = X_sample.detach().numpy().reshape((28, 28, 1))\n",
    "\n",
    "# Plotting, \n",
    "figure, axis = plt.subplots(1, 2, figsize = (9, 9))\n",
    "axis[0].imshow(image, cmap = \"gray\")\n",
    "axis[0].set_title(\"Image\")\n",
    "axis[1].imshow(feature_image, cmap = \"hot\")\n",
    "axis[1].set_title(\"Gradient Map\")\n",
    "plt.show()\n",
    "print(f\"[Prediction: {Y_pred.detach().numpy().argmax()}, Actual: {Y_sample.numpy().argmax()}]\")"
   ]
  }
 ],
 "metadata": {
  "kernelspec": {
   "display_name": "Python 3 (ipykernel)",
   "language": "python",
   "name": "python3"
  },
  "language_info": {
   "codemirror_mode": {
    "name": "ipython",
    "version": 3
   },
   "file_extension": ".py",
   "mimetype": "text/x-python",
   "name": "python",
   "nbconvert_exporter": "python",
   "pygments_lexer": "ipython3",
   "version": "3.10.1"
  }
 },
 "nbformat": 4,
 "nbformat_minor": 5
}

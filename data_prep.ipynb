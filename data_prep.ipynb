{
 "cells": [
  {
   "cell_type": "code",
   "execution_count": 1,
   "id": "000a2005",
   "metadata": {},
   "outputs": [],
   "source": [
    "# Standard library imports,\n",
    "import os\n",
    "import gzip\n",
    "\n",
    "# Third-party imports,\n",
    "import matplotlib.pyplot as plt\n",
    "import pandas as pd\n",
    "import numpy as np\n",
    "import cv2\n",
    "\n",
    "# Torch imports,\n",
    "import torch\n",
    "import torchvision\n",
    "from torch.utils.data import Dataset\n",
    "from torchvision import transforms"
   ]
  },
  {
   "cell_type": "markdown",
   "id": "e7db3738",
   "metadata": {},
   "source": [
    "## Custom Dataset"
   ]
  },
  {
   "cell_type": "code",
   "execution_count": 2,
   "id": "a9b509b5",
   "metadata": {},
   "outputs": [],
   "source": [
    "class MNIST(Dataset):\n",
    "    def __init__(self, X, Y):\n",
    "\n",
    "        # Defining normalisation transform,\n",
    "        self.norm_trans = transforms.Compose([\n",
    "            transforms.ToTensor(),\n",
    "            transforms.Normalize((0.1307), (0.3081))\n",
    "        ])\n",
    "\n",
    "        # Converting Y to tensors,\n",
    "        self.Y = torch.tensor(Y)\n",
    "        del Y\n",
    "\n",
    "        # Converting X to tensors and normalising,\n",
    "        self.X = self.normalise(X)\n",
    "        del X\n",
    "\n",
    "    def __len__(self):\n",
    "        return len(self.X)\n",
    "\n",
    "    def __getitem__(self, index):\n",
    "        return self.X[index], self.Y[index]\n",
    "\n",
    "    def normalise(self, X):\n",
    "        normalised_X = []\n",
    "        for image in X:\n",
    "            normalised_image = self.norm_trans(image)\n",
    "            normalised_X.append(normalised_image)\n",
    "            del image\n",
    "        return torch.stack(normalised_X)"
   ]
  },
  {
   "cell_type": "markdown",
   "id": "261d610f",
   "metadata": {},
   "source": [
    "## Preprocessing Data"
   ]
  },
  {
   "cell_type": "code",
   "execution_count": 3,
   "id": "cd065f04",
   "metadata": {},
   "outputs": [],
   "source": [
    "if __name__ == \"__main__\":\n",
    "\n",
    "    parent_dir = os.path.dirname(os.getcwd())\n",
    "    data_dir = parent_dir + \"\\\\Datasets\\\\MNIST\\\\\"\n",
    "\n",
    "    # Extracting training images and labels,\n",
    "    with gzip.open(data_dir + \"train-images-idx3-ubyte.gz\", \"r\") as bytestream:\n",
    "        bytestream.read(16)\n",
    "        training_images_bytes = bytestream.read(60000*28*28)\n",
    "\n",
    "    training_images = np.frombuffer(training_images_bytes, dtype=np.uint8).astype(np.float32)\n",
    "    del training_images_bytes\n",
    "    training_images = training_images.reshape(60000, 28, 28, 1)\n",
    "\n",
    "    with gzip.open(data_dir + \"train-labels-idx1-ubyte.gz\", \"r\") as bytestream:\n",
    "        bytestream.read(8)\n",
    "        training_labels_bytes = bytestream.read(60000)\n",
    "\n",
    "    training_labels = np.frombuffer(training_labels_bytes, dtype=np.uint8).astype(np.int64)\n",
    "    del training_labels_bytes\n",
    "    \n",
    "    # Saving training dataset,\n",
    "    training_dataset = MNIST(training_images, training_labels)\n",
    "    del(training_images, training_labels)\n",
    "    torch.save(training_dataset, \"training.pt\")\n",
    "    del training_dataset\n",
    "    \n",
    "    # Extracting test images and labels,\n",
    "    with gzip.open(data_dir + \"t10k-images-idx3-ubyte.gz\", \"r\") as bytestream:\n",
    "        bytestream.read(16)\n",
    "        test_images_bytes = bytestream.read(10000*28*28)\n",
    "\n",
    "    test_images = np.frombuffer(test_images_bytes, dtype=np.uint8).astype(np.float32)\n",
    "    del test_images_bytes\n",
    "    test_images = test_images.reshape(10000, 28, 28, 1)\n",
    "\n",
    "    with gzip.open(data_dir + \"t10k-labels-idx1-ubyte.gz\", \"r\") as bytestream:\n",
    "        bytestream.read(8)\n",
    "        test_labels_bytes = bytestream.read(10000)\n",
    "\n",
    "    test_labels = np.frombuffer(test_labels_bytes, dtype=np.uint8).astype(np.int64)\n",
    "    del test_labels_bytes\n",
    "\n",
    "    # Saving training dataset,\n",
    "    test_dataset = MNIST(test_images, test_labels)\n",
    "    del(test_images, test_labels)\n",
    "    torch.save(test_dataset, \"test.pt\")\n",
    "    del test_dataset"
   ]
  }
 ],
 "metadata": {
  "kernelspec": {
   "display_name": "Python 3 (ipykernel)",
   "language": "python",
   "name": "python3"
  },
  "language_info": {
   "codemirror_mode": {
    "name": "ipython",
    "version": 3
   },
   "file_extension": ".py",
   "mimetype": "text/x-python",
   "name": "python",
   "nbconvert_exporter": "python",
   "pygments_lexer": "ipython3",
   "version": "3.10.1"
  }
 },
 "nbformat": 4,
 "nbformat_minor": 5
}
